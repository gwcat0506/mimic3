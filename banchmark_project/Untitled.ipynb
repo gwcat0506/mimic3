{
 "cells": [
  {
   "cell_type": "code",
   "execution_count": 1,
   "id": "53e533c1-e87c-477a-aa1b-64374f08b2b4",
   "metadata": {},
   "outputs": [
    {
     "name": "stdout",
     "output_type": "stream",
     "text": [
      "'mimic3-benchmarks'에 복제합니다...\n",
      "remote: Enumerating objects: 1725, done.\u001b[K\n",
      "remote: Counting objects: 100% (5/5), done.\u001b[K\n",
      "remote: Compressing objects: 100% (5/5), done.\u001b[K\n",
      "remote: Total 1725 (delta 0), reused 2 (delta 0), pack-reused 1720\u001b[K\n",
      "오브젝트를 받는 중: 100% (1725/1725), 11.25 MiB | 10.99 MiB/s, 완료.\n",
      "델타를 알아내는 중: 100% (1224/1224), 완료.\n"
     ]
    }
   ],
   "source": [
    "!git clone \"https://github.com/YerevaNN/mimic3-benchmarks.git\""
   ]
  },
  {
   "cell_type": "code",
   "execution_count": null,
   "id": "5747e8fa-0087-4733-ae1d-9fd7b90aa78b",
   "metadata": {},
   "outputs": [],
   "source": []
  }
 ],
 "metadata": {
  "kernelspec": {
   "display_name": "test_env",
   "language": "python",
   "name": "goun"
  },
  "language_info": {
   "codemirror_mode": {
    "name": "ipython",
    "version": 3
   },
   "file_extension": ".py",
   "mimetype": "text/x-python",
   "name": "python",
   "nbconvert_exporter": "python",
   "pygments_lexer": "ipython3",
   "version": "3.9.12"
  }
 },
 "nbformat": 4,
 "nbformat_minor": 5
}
